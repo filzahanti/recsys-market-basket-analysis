{
  "cells": [
    {
      "cell_type": "code",
      "execution_count": null,
      "metadata": {
        "id": "EFQILo8iQPK6",
        "colab": {
          "base_uri": "https://localhost:8080/"
        },
        "outputId": "5025944d-b783-4aba-bc0a-ecf885b44b9e"
      },
      "outputs": [
        {
          "output_type": "stream",
          "name": "stdout",
          "text": [
            "\u001b[?25l     \u001b[90m━━━━━━━━━━━━━━━━━━━━━━━━━━━━━━━━━━━━━━━━\u001b[0m \u001b[32m0.0/96.2 KB\u001b[0m \u001b[31m?\u001b[0m eta \u001b[36m-:--:--\u001b[0m\r\u001b[2K     \u001b[90m━━━━━━━━━━━━━━━━━━━━━━━━━━━━━━━━━━━━━━━━\u001b[0m \u001b[32m96.2/96.2 KB\u001b[0m \u001b[31m3.7 MB/s\u001b[0m eta \u001b[36m0:00:00\u001b[0m\n",
            "\u001b[?25h"
          ]
        }
      ],
      "source": [
        "!pip install -q tensorflow-recommenders\n",
        "!pip install -q --upgrade tensorflow-datasets\n",
        "!pip install -q scann"
      ],
      "id": "EFQILo8iQPK6"
    },
    {
      "cell_type": "code",
      "execution_count": null,
      "metadata": {
        "id": "c4e00661"
      },
      "outputs": [],
      "source": [
        "from google.colab import files\n",
        "import pandas as pd\n",
        "import numpy as np\n",
        "\n",
        "from typing import Dict, Text\n",
        "\n",
        "import tensorflow as tf\n",
        "import tensorflow_recommenders as tfrs"
      ],
      "id": "c4e00661"
    },
    {
      "cell_type": "code",
      "execution_count": null,
      "metadata": {
        "id": "Im3WtQMegDyF"
      },
      "outputs": [],
      "source": [
        "from google.colab import drive\n",
        "drive.mount('/content/drive')"
      ],
      "id": "Im3WtQMegDyF"
    },
    {
      "cell_type": "code",
      "execution_count": null,
      "metadata": {
        "id": "ddf54273"
      },
      "outputs": [],
      "source": [
        "transaction = pd.read_csv('/df_cleaned.csv')\n",
        "article = pd.read_csv('/articles.csv')"
      ],
      "id": "ddf54273"
    },
    {
      "cell_type": "markdown",
      "source": [
        "## Data Preparation"
      ],
      "metadata": {
        "id": "vniSQSJEM2BG"
      },
      "id": "vniSQSJEM2BG"
    },
    {
      "cell_type": "code",
      "execution_count": null,
      "metadata": {
        "id": "ebb6c9f4"
      },
      "outputs": [],
      "source": [
        "article = pd.DataFrame(transaction[transaction['t_dat']>='2020-09-07']['article_id'].value_counts().head(1000).index, columns=['article_id'])\n",
        "transaction = transaction.drop_duplicates(subset=['customer_id','article_id'])\n",
        "\n",
        "article['article_id'] = article['article_id'].astype(str).str.zfill(10)\n",
        "transaction['article_id'] = transaction['article_id'].astype(str).str.zfill(10)"
      ],
      "id": "ebb6c9f4"
    },
    {
      "cell_type": "code",
      "execution_count": null,
      "metadata": {
        "id": "d7ca67b2"
      },
      "outputs": [],
      "source": [
        "articles = tf.data.Dataset.from_tensor_slices(dict(article[['article_id']]))\n",
        "articles = articles.map(lambda x: x['article_id'])\n",
        "\n",
        "customer_unique = transaction['customer_id'].unique()\n",
        "article_unique = article['article_id'].unique()"
      ],
      "id": "d7ca67b2"
    },
    {
      "cell_type": "markdown",
      "source": [
        "### Train data"
      ],
      "metadata": {
        "id": "uAl8xojmM9eR"
      },
      "id": "uAl8xojmM9eR"
    },
    {
      "cell_type": "code",
      "execution_count": null,
      "metadata": {
        "id": "78031807"
      },
      "outputs": [],
      "source": [
        "trainset = transaction[transaction['t_dat']>='2019-08-01'].copy()\n",
        "\n",
        "train = tf.data.Dataset.from_tensor_slices(dict(trainset[['customer_id','article_id']])).shuffle(100_000).batch(128).cache()"
      ],
      "id": "78031807"
    },
    {
      "cell_type": "code",
      "execution_count": null,
      "metadata": {
        "id": "8165d970"
      },
      "outputs": [],
      "source": [
        "embedding_dimension = 500\n",
        "\n",
        "#The query tower\n",
        "customer_model = tf.keras.Sequential([tf.keras.layers.StringLookup(\n",
        "                                        vocabulary = customer_unique, mask_token=None),\n",
        "                                       tf.keras.layers.Embedding(\n",
        "                                           len(customer_unique) + 1, embedding_dimension)])\n",
        "\n",
        "#The candidate tower\n",
        "article_model = tf.keras.Sequential([tf.keras.layers.StringLookup(\n",
        "                                        vocabulary = article_unique, mask_token=None),\n",
        "                                       tf.keras.layers.Embedding(\n",
        "                                           len(article_unique) + 1, embedding_dimension)])\n",
        "\n",
        "#Metrics\n",
        "metrics = tfrs.metrics.FactorizedTopK(candidates=articles.batch(128).\\\n",
        "                                                map(article_model))\n",
        "\n",
        "#Loss\n",
        "task = tfrs.tasks.Retrieval(metrics=metrics)"
      ],
      "id": "8165d970"
    },
    {
      "cell_type": "markdown",
      "source": [
        "## Model"
      ],
      "metadata": {
        "id": "2IoNS5v6NYWN"
      },
      "id": "2IoNS5v6NYWN"
    },
    {
      "cell_type": "code",
      "execution_count": null,
      "metadata": {
        "id": "3b1bb264"
      },
      "outputs": [],
      "source": [
        "class HnmModel(tfrs.Model):\n",
        "    def __init__(self, customer_model, article_model):\n",
        "        super().__init__()\n",
        "        self.article_model: tf.keras.Model = article_model\n",
        "        self.customer_model: tf.keras.Model = customer_model\n",
        "        self.task = task\n",
        "            \n",
        "    def compute_loss(self, features: Dict[Text, tf.Tensor], training=False) -> tf.Tensor:\n",
        "        customer_embeddings = self.customer_model(features['customer_id'])\n",
        "        positive_article_embeddings = self.article_model(features['article_id'])\n",
        "        \n",
        "        return self.task(customer_embeddings, positive_article_embeddings, compute_metrics=not training)"
      ],
      "id": "3b1bb264"
    },
    {
      "cell_type": "code",
      "execution_count": null,
      "metadata": {
        "id": "c0b51928"
      },
      "outputs": [],
      "source": [
        "model = HnmModel(customer_model, article_model)\n",
        "model.compile(optimizer=tf.keras.optimizers.Adagrad(learning_rate=0.1))"
      ],
      "id": "c0b51928"
    },
    {
      "cell_type": "markdown",
      "source": [
        "## Model training"
      ],
      "metadata": {
        "id": "5VFceaQRNdRx"
      },
      "id": "5VFceaQRNdRx"
    },
    {
      "cell_type": "code",
      "execution_count": null,
      "metadata": {
        "id": "38b6b9f4"
      },
      "outputs": [],
      "source": [
        "model.fit(train, epochs=3, verbose=1)"
      ],
      "id": "38b6b9f4"
    },
    {
      "cell_type": "markdown",
      "source": [
        "## Predictions"
      ],
      "metadata": {
        "id": "GET4jPnfNtbo"
      },
      "id": "GET4jPnfNtbo"
    },
    {
      "cell_type": "code",
      "execution_count": null,
      "metadata": {
        "id": "7c9ddc5b"
      },
      "outputs": [],
      "source": [
        "index = tfrs.layers.factorized_top_k.ScaNN(model.customer_model, k=5)\n",
        "index.index_from_dataset(tf.data.Dataset.zip((\n",
        "    articles.batch(100), articles.batch(100).map(model.article_model)\n",
        ")))\n",
        "\n",
        "#Example\n",
        "_, articles = index(tf.constant(['00006413d8573cd20ed7128e53b7b13819fe5cfc2d801fe7fc0f26dd8d65a85a']))\n",
        "print(f'Recommendations: {articles[0, :3]}')"
      ],
      "id": "7c9ddc5b"
    },
    {
      "cell_type": "code",
      "execution_count": null,
      "metadata": {
        "id": "22ed75b7"
      },
      "outputs": [],
      "source": [
        "df = pd.DataFrame(transaction['customer_id'].unique(), columns=['customer_id'])\n",
        "_, articles = index(df['customer_id'].values)"
      ],
      "id": "22ed75b7"
    },
    {
      "cell_type": "code",
      "execution_count": null,
      "metadata": {
        "id": "OPTY0T1hFL0Q"
      },
      "outputs": [],
      "source": [
        "prediction = pd.Series(map(' '.join, articles.numpy().astype(str)))\n",
        "df['prediction'] = prediction"
      ],
      "id": "OPTY0T1hFL0Q"
    }
  ],
  "metadata": {
    "colab": {
      "provenance": [],
      "machine_shape": "hm"
    },
    "kernelspec": {
      "display_name": "Python 3 (ipykernel)",
      "language": "python",
      "name": "python3"
    },
    "language_info": {
      "codemirror_mode": {
        "name": "ipython",
        "version": 3
      },
      "file_extension": ".py",
      "mimetype": "text/x-python",
      "name": "python",
      "nbconvert_exporter": "python",
      "pygments_lexer": "ipython3",
      "version": "3.9.13"
    },
    "accelerator": "GPU",
    "gpuClass": "standard"
  },
  "nbformat": 4,
  "nbformat_minor": 5
}
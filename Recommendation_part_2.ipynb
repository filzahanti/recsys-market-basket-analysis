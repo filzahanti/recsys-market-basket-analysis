{
 "cells": [
  {
   "cell_type": "code",
   "execution_count": 1,
   "id": "3cfbc9ca",
   "metadata": {},
   "outputs": [],
   "source": [
    "import pandas as pd"
   ]
  },
  {
   "cell_type": "code",
   "execution_count": 2,
   "id": "11fc8109",
   "metadata": {},
   "outputs": [],
   "source": [
    "df = pd.read_csv('\\df_cleaned.csv')\n",
    "submit = pd.read_csv('sample_submission.csv')\n",
    "tfrec = pd.read_csv('tfsubmission.csv\")"
   ]
  },
  {
   "cell_type": "markdown",
   "id": "4beff401",
   "metadata": {},
   "source": [
    "# Repurchased Items"
   ]
  },
  {
   "cell_type": "code",
   "execution_count": 3,
   "id": "93da79e5",
   "metadata": {},
   "outputs": [],
   "source": [
    "re = df.groupby(['customer_id','article_id']).agg(count_item=('article_id','count'))\n",
    "re = re.reset_index()\n",
    "re = re[re['count_item']>10].copy()\n",
    "re = re.sort_values(by='count_item', ascending=False).groupby('customer_id').head(1)\n",
    "re['article_id'] = re['article_id'].astype(str).str.zfill(10)\n",
    "re = re.drop('count_item', axis=1)\n",
    "re.columns = ['customer_id', 're_item']"
   ]
  },
  {
   "cell_type": "code",
   "execution_count": 4,
   "id": "2cb322f2",
   "metadata": {},
   "outputs": [],
   "source": [
    "submit = pd.merge(submit, re, on='customer_id', how='left').fillna('')"
   ]
  },
  {
   "cell_type": "markdown",
   "id": "a70a61a9",
   "metadata": {},
   "source": [
    "# Last Purchased Items"
   ]
  },
  {
   "cell_type": "code",
   "execution_count": 5,
   "id": "218ff72b",
   "metadata": {},
   "outputs": [],
   "source": [
    "last = df.sort_values(by='t_dat', ascending=False).groupby('customer_id').head(5)\n",
    "last['article_id'] = last['article_id'].astype(str).str.zfill(10)\n",
    "last = pd.DataFrame(last.groupby('customer_id')['article_id'].apply(list)).reset_index()\n",
    "last['article_id'] = [' '.join(map(str, i)) for i in last['article_id']]\n",
    "last.columns = ['customer_id','last_item']"
   ]
  },
  {
   "cell_type": "code",
   "execution_count": 6,
   "id": "8fcf2936",
   "metadata": {},
   "outputs": [],
   "source": [
    "submit = pd.merge(submit, last, on='customer_id', how='left').fillna('')"
   ]
  },
  {
   "cell_type": "markdown",
   "id": "e3c8cb3c",
   "metadata": {},
   "source": [
    "# Tensorflow recommenders"
   ]
  },
  {
   "cell_type": "code",
   "execution_count": 7,
   "id": "1ef60cc9",
   "metadata": {},
   "outputs": [],
   "source": [
    "tfrec.columns = ['customer_id', 'tf']\n",
    "submit = pd.merge(submit, tfrec, on='customer_id', how='left').fillna('')"
   ]
  },
  {
   "cell_type": "markdown",
   "id": "bbc60b8e",
   "metadata": {},
   "source": [
    "# Last Week Popular Items"
   ]
  },
  {
   "cell_type": "code",
   "execution_count": 8,
   "id": "92a07227",
   "metadata": {},
   "outputs": [],
   "source": [
    "pop = df[df['t_dat']>'2020-09-15'].copy()\n",
    "pop['article_id'] = pop['article_id'].astype(str).str.zfill(10)\n",
    "itemlist = ' '.join(list(pop['article_id'].value_counts().head(12).index))"
   ]
  },
  {
   "cell_type": "code",
   "execution_count": 9,
   "id": "26f9c3a6",
   "metadata": {},
   "outputs": [],
   "source": [
    "submit['pop'] = itemlist"
   ]
  },
  {
   "cell_type": "markdown",
   "id": "86c6d802",
   "metadata": {},
   "source": [
    "# Combine recommendations"
   ]
  },
  {
   "cell_type": "code",
   "execution_count": 10,
   "id": "9c9cc416",
   "metadata": {},
   "outputs": [],
   "source": [
    "submit['merge'] = submit['re_item']+' '+submit['last_item']+' '+submit['tf']+' '+submit['pop']\n",
    "submit = submit.drop(['re_item','last_item','prediction','tf','pop'], axis=1)\n",
    "submit['merge'] = submit['merge'].apply(lambda x: x.split())\n",
    "submit['merge'] = submit['merge'].apply(lambda x: list(sorted(set(x), key=x.index))).str[:12]\n",
    "submit['merge'] = [' '.join(map(str, i)) for i in submit['merge']]\n",
    "submit.columns = ['customer_id','prediction']"
   ]
  }
 ],
 "metadata": {
  "kernelspec": {
   "display_name": "Python 3 (ipykernel)",
   "language": "python",
   "name": "python3"
  },
  "language_info": {
   "codemirror_mode": {
    "name": "ipython",
    "version": 3
   },
   "file_extension": ".py",
   "mimetype": "text/x-python",
   "name": "python",
   "nbconvert_exporter": "python",
   "pygments_lexer": "ipython3",
   "version": "3.9.13"
  }
 },
 "nbformat": 4,
 "nbformat_minor": 5
}
